{
  "nbformat": 4,
  "nbformat_minor": 0,
  "metadata": {
    "colab": {
      "provenance": []
    },
    "kernelspec": {
      "name": "python3",
      "display_name": "Python 3"
    },
    "language_info": {
      "name": "python"
    },
    "accelerator": "GPU",
    "gpuClass": "standard"
  },
  "cells": [
    {
      "cell_type": "code",
      "source": [
        "!nvcc --version"
      ],
      "metadata": {
        "colab": {
          "base_uri": "https://localhost:8080/"
        },
        "id": "vHRjGTph7Jem",
        "outputId": "b172001a-dfb8-4fb3-e1ff-6560f73eb2bd"
      },
      "execution_count": 26,
      "outputs": [
        {
          "output_type": "stream",
          "name": "stdout",
          "text": [
            "nvcc: NVIDIA (R) Cuda compiler driver\n",
            "Copyright (c) 2005-2022 NVIDIA Corporation\n",
            "Built on Wed_Sep_21_10:33:58_PDT_2022\n",
            "Cuda compilation tools, release 11.8, V11.8.89\n",
            "Build cuda_11.8.r11.8/compiler.31833905_0\n"
          ]
        }
      ]
    },
    {
      "cell_type": "code",
      "source": [
        "!pip install git+https://github.com/andreinechaev/nvcc4jupyter.git"
      ],
      "metadata": {
        "colab": {
          "base_uri": "https://localhost:8080/"
        },
        "id": "pecSAO7L0iuU",
        "outputId": "a6cac8ce-4be2-4b21-95b4-8bacbbf20226"
      },
      "execution_count": 27,
      "outputs": [
        {
          "output_type": "stream",
          "name": "stdout",
          "text": [
            "Looking in indexes: https://pypi.org/simple, https://us-python.pkg.dev/colab-wheels/public/simple/\n",
            "Collecting git+https://github.com/andreinechaev/nvcc4jupyter.git\n",
            "  Cloning https://github.com/andreinechaev/nvcc4jupyter.git to /tmp/pip-req-build-sp5cf3gv\n",
            "  Running command git clone --filter=blob:none --quiet https://github.com/andreinechaev/nvcc4jupyter.git /tmp/pip-req-build-sp5cf3gv\n",
            "  Resolved https://github.com/andreinechaev/nvcc4jupyter.git to commit aac710a35f52bb78ab34d2e52517237941399eff\n",
            "  Preparing metadata (setup.py) ... \u001b[?25l\u001b[?25hdone\n"
          ]
        }
      ]
    },
    {
      "cell_type": "code",
      "source": [
        "%load_ext nvcc_plugin"
      ],
      "metadata": {
        "colab": {
          "base_uri": "https://localhost:8080/"
        },
        "id": "GqWGe-Ms0t8X",
        "outputId": "74798a24-0023-4981-b13e-e15efca4072e"
      },
      "execution_count": 28,
      "outputs": [
        {
          "output_type": "stream",
          "name": "stdout",
          "text": [
            "The nvcc_plugin extension is already loaded. To reload it, use:\n",
            "  %reload_ext nvcc_plugin\n"
          ]
        }
      ]
    },
    {
      "cell_type": "markdown",
      "source": [],
      "metadata": {
        "id": "lJi8Tw-k_AHQ"
      }
    },
    {
      "cell_type": "code",
      "source": [
        "!nvcc FINAL.cu -o FINAL"
      ],
      "metadata": {
        "id": "Xza0PGI33B40"
      },
      "execution_count": 41,
      "outputs": []
    },
    {
      "cell_type": "code",
      "source": [
        "!./FINAL"
      ],
      "metadata": {
        "colab": {
          "base_uri": "https://localhost:8080/"
        },
        "id": "_RhAi3Hc5sYt",
        "outputId": "0c292967-bdce-4094-dee6-c35c1039bb27"
      },
      "execution_count": 42,
      "outputs": [
        {
          "output_type": "stream",
          "name": "stdout",
          "text": [
            "X[0]: 70.8 + 67.6i\n",
            "X[1]: 70.6 + 67.6i\n",
            "X[2]: 70.4 + 67.6i\n",
            "X[3]: 70.2 + 67.6i\n",
            "X[4]: 70.1 + 67.6i\n",
            "X[5]: 69.9 + 67.6i\n",
            "X[6]: 69.7 + 67.6i\n",
            "X[7]: 69.5 + 67.6i\n",
            "X[0]: 70.8 + 67.6i\n",
            "X[1]: 70.6 + 67.6i\n",
            "X[2]: 70.4 + 67.6i\n",
            "X[3]: 70.2 + 67.6i\n",
            "X[4]: 70.1 + 67.6i\n",
            "X[5]: 69.9 + 67.6i\n",
            "X[6]: 69.7 + 67.6i\n",
            "X[7]: 69.5 + 67.6i\n",
            "X[0]: 70.8 + 67.6i\n",
            "X[1]: 70.6 + 67.6i\n",
            "X[2]: 70.4 + 67.6i\n",
            "X[3]: 70.2 + 67.6i\n",
            "X[4]: 70.1 + 67.6i\n",
            "X[5]: 69.9 + 67.6i\n",
            "X[6]: 69.7 + 67.6i\n",
            "X[7]: 69.5 + 67.6i\n",
            "X[0]: 70.8 + 67.6i\n",
            "X[1]: 70.6 + 67.6i\n",
            "X[2]: 70.4 + 67.6i\n",
            "X[3]: 70.2 + 67.6i\n",
            "X[4]: 70.1 + 67.6i\n",
            "X[5]: 69.9 + 67.6i\n",
            "X[6]: 69.7 + 67.6i\n",
            "X[7]: 69.5 + 67.6i\n",
            "X[0]: 70.8 + 67.6i\n",
            "X[1]: 70.6 + 67.6i\n",
            "X[2]: 70.4 + 67.6i\n",
            "X[3]: 70.2 + 67.6i\n",
            "X[4]: 70.1 + 67.6i\n",
            "X[5]: 69.9 + 67.6i\n",
            "X[6]: 69.7 + 67.6i\n",
            "X[7]: 69.5 + 67.6i\n",
            "X[0]: 70.8 + 67.6i\n",
            "X[1]: 70.6 + 67.6i\n",
            "X[2]: 70.4 + 67.6i\n",
            "X[3]: 70.2 + 67.6i\n",
            "X[4]: 70.1 + 67.6i\n",
            "X[5]: 69.9 + 67.6i\n",
            "X[6]: 69.7 + 67.6i\n",
            "X[7]: 69.5 + 67.6i\n",
            "The elapsed time of the program was 3397.01 ms\n"
          ]
        }
      ]
    }
  ]
}